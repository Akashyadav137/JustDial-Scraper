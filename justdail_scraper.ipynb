{
 "cells": [
  {
   "cell_type": "code",
   "execution_count": 37,
   "metadata": {},
   "outputs": [],
   "source": [
    "CHROMEDRIVER=\"chromedriver.exe\" \n",
    "from time import sleep\n",
    "import pandas as pd\n",
    "from selenium import webdriver\n",
    "from scrapy.selector import Selector\n",
    "from selenium.webdriver.chrome.options import Options\n",
    "from tqdm import tqdm\n",
    "import re\n",
    "from time import sleep \n",
    "import time\n",
    "from selenium import webdriver\n",
    "# from webdriver_manager.chrome import ChromeDriverManager"
   ]
  },
  {
   "cell_type": "code",
   "execution_count": 36,
   "metadata": {},
   "outputs": [],
   "source": [
    "# browser = webdriver.Chrome(ChromeDriverManager().install())"
   ]
  },
  {
   "cell_type": "code",
   "execution_count": 40,
   "metadata": {},
   "outputs": [],
   "source": [
    "browser = webdriver.Chrome(CHROMEDRIVER)\n",
    "browser.maximize_window()\n",
    "browser.get('https://www.justdial.com/us/FL-Miami/Plumbers/nct-1000969324')"
   ]
  },
  {
   "cell_type": "code",
   "execution_count": 41,
   "metadata": {},
   "outputs": [
    {
     "name": "stderr",
     "output_type": "stream",
     "text": [
      "100%|██████████████████████████████████████████| 50/50 [16:41<00:00, 20.03s/it]\n"
     ]
    }
   ],
   "source": [
    "for i in tqdm(range(0,50,1)):\n",
    "    browser.execute_script(\"window.scrollTo(0, document.body.scrollHeight-3);\")\n",
    "    time.sleep(20)\n",
    "sel = Selector(text=browser.page_source)#get the page source\n",
    "links=sel.xpath('//li[@class=\"lst ng-scope\"]//div[@class=\"col-md-6 col-sm-6 col-xs-6 pad0 cust_dt trpdtls\"]/h2/a/@href').extract()\n",
    "browser.close()"
   ]
  },
  {
   "cell_type": "code",
   "execution_count": 23,
   "metadata": {},
   "outputs": [
    {
     "name": "stderr",
     "output_type": "stream",
     "text": [
      "100%|██████████████████████████████████████████| 10/10 [03:54<00:00, 23.49s/it]\n"
     ]
    }
   ],
   "source": [
    "name_=[]\n",
    "address_=[]\n",
    "phone_=[]\n",
    "website_=[]\n",
    "rateing_=[]\n",
    "votes_=[]\n",
    "for i in tqdm(range(0,len(links[:100]),1)):\n",
    "    browser = webdriver.Chrome('chromedriver.exe')\n",
    "    browser.maximize_window()\n",
    "    browser.get(links[i])\n",
    "    sleep(5)\n",
    "    sel=Selector(text=browser.page_source)\n",
    "    name=sel.xpath('//span[@class=\"item\"]/span/text()').extract_first()\n",
    "    add=sel.xpath('//span[@class=\"adrstxtr\"]/span/text()').extract_first()\n",
    "    phone=sel.xpath('//a[@class=\"tel\"]/@href').extract_first()\n",
    "    website=sel.xpath('//span[@class=\"mreinfp ex_mrgn ng-scope\"]/a/@href').extract_first()\n",
    "    rateing=sel.xpath('//span[@class=\"strtngwpr ng-scope\"]/span/text()').extract_first()\n",
    "    votes=sel.xpath('//span[@class=\"rtngsval ng-binding ng-scope\"]/text()').extract_first()\n",
    "    #print(name,add,phone,website,rateing,votes)\n",
    "    name_.append(name)\n",
    "    address_.append(add)\n",
    "    phone_.append(phone)\n",
    "    website_.append(website)\n",
    "    rateing_.append(rateing)\n",
    "    votes_.append(votes)\n",
    "    browser.close()"
   ]
  },
  {
   "cell_type": "code",
   "execution_count": 33,
   "metadata": {},
   "outputs": [],
   "source": [
    "data={\"name_\":name_,\"address_\":address_,\"phone_\":phone_,\"website_\":website_,\"rateing_\":rateing_,\"votes_\":votes_}\n",
    "final_data=pd.DataFrame(data)"
   ]
  },
  {
   "cell_type": "code",
   "execution_count": 34,
   "metadata": {},
   "outputs": [
    {
     "data": {
      "text/html": [
       "<div>\n",
       "<style scoped>\n",
       "    .dataframe tbody tr th:only-of-type {\n",
       "        vertical-align: middle;\n",
       "    }\n",
       "\n",
       "    .dataframe tbody tr th {\n",
       "        vertical-align: top;\n",
       "    }\n",
       "\n",
       "    .dataframe thead th {\n",
       "        text-align: right;\n",
       "    }\n",
       "</style>\n",
       "<table border=\"1\" class=\"dataframe\">\n",
       "  <thead>\n",
       "    <tr style=\"text-align: right;\">\n",
       "      <th></th>\n",
       "      <th>name_</th>\n",
       "      <th>address_</th>\n",
       "      <th>phone_</th>\n",
       "      <th>website_</th>\n",
       "      <th>rateing_</th>\n",
       "      <th>votes_</th>\n",
       "    </tr>\n",
       "  </thead>\n",
       "  <tbody>\n",
       "    <tr>\n",
       "      <th>0</th>\n",
       "      <td>Douglas Orr Plumbing, Inc.</td>\n",
       "      <td>301 Flagler Dr, Miami, FL - 33166</td>\n",
       "      <td>tel:+13058880678</td>\n",
       "      <td>http://orrplumbing.com</td>\n",
       "      <td>5.0</td>\n",
       "      <td>210</td>\n",
       "    </tr>\n",
       "    <tr>\n",
       "      <th>1</th>\n",
       "      <td>Bay Plumbing Co</td>\n",
       "      <td>3029 SW 28th St, Miami, FL - 33133</td>\n",
       "      <td>tel:+13054468141</td>\n",
       "      <td>http://bayplumbingco.com</td>\n",
       "      <td>4.0</td>\n",
       "      <td>60</td>\n",
       "    </tr>\n",
       "    <tr>\n",
       "      <th>2</th>\n",
       "      <td>Roto Rooter Plumbing &amp; Drain Service</td>\n",
       "      <td>151 SW 54th Ave, Miami, FL - 33134</td>\n",
       "      <td>tel:+13054411292</td>\n",
       "      <td>http://www.rotorooter.com</td>\n",
       "      <td>4.0</td>\n",
       "      <td>60</td>\n",
       "    </tr>\n",
       "    <tr>\n",
       "      <th>3</th>\n",
       "      <td>Rosher Dick Plumbing Inc</td>\n",
       "      <td>8857 SW 129Th St, Miami, FL - 33176</td>\n",
       "      <td>tel:+13052530405</td>\n",
       "      <td>http://www.dickrosherplumbingofmiami.com</td>\n",
       "      <td>4.0</td>\n",
       "      <td>50</td>\n",
       "    </tr>\n",
       "    <tr>\n",
       "      <th>4</th>\n",
       "      <td>South End Plumbing Inc</td>\n",
       "      <td>8805 SW 129th St, Miami, FL - 33176</td>\n",
       "      <td>tel:+13053781774</td>\n",
       "      <td>http://southendplumbing.com</td>\n",
       "      <td>5.0</td>\n",
       "      <td>1</td>\n",
       "    </tr>\n",
       "    <tr>\n",
       "      <th>5</th>\n",
       "      <td>Blackwell Emergency Plumbing Co</td>\n",
       "      <td>900 144th, Miami, FL - 33168</td>\n",
       "      <td>tel:+13057578459</td>\n",
       "      <td>None</td>\n",
       "      <td>4.0</td>\n",
       "      <td>1</td>\n",
       "    </tr>\n",
       "    <tr>\n",
       "      <th>6</th>\n",
       "      <td>Plumbing Experts Inc</td>\n",
       "      <td>2101 NE 164th St, Miami, FL - 33162</td>\n",
       "      <td>tel:+13059479968</td>\n",
       "      <td>http://FACEBOOK.COM/PLUGINS/LIKEBOX.PHP|PLUMBI...</td>\n",
       "      <td>0.0</td>\n",
       "      <td>None</td>\n",
       "    </tr>\n",
       "    <tr>\n",
       "      <th>7</th>\n",
       "      <td>Marlin Plumbing</td>\n",
       "      <td>20145 NE 16th Pl, Miami, FL - 33179</td>\n",
       "      <td>tel:+17865041854</td>\n",
       "      <td>http://4marlinplumbing.net</td>\n",
       "      <td>0.0</td>\n",
       "      <td>None</td>\n",
       "    </tr>\n",
       "    <tr>\n",
       "      <th>8</th>\n",
       "      <td>Caballero Plumbing</td>\n",
       "      <td>7225 NW 46th St, Miami, FL - 33166</td>\n",
       "      <td>tel:+13056299500</td>\n",
       "      <td>http://caballeroplumbing.com</td>\n",
       "      <td>0.0</td>\n",
       "      <td>None</td>\n",
       "    </tr>\n",
       "    <tr>\n",
       "      <th>9</th>\n",
       "      <td>Super Rooter Sewer &amp; Septic</td>\n",
       "      <td>Miami, FL - 33125</td>\n",
       "      <td>tel:+13052267259</td>\n",
       "      <td>None</td>\n",
       "      <td>0.0</td>\n",
       "      <td>None</td>\n",
       "    </tr>\n",
       "  </tbody>\n",
       "</table>\n",
       "</div>"
      ],
      "text/plain": [
       "                                  name_                             address_  \\\n",
       "0            Douglas Orr Plumbing, Inc.    301 Flagler Dr, Miami, FL - 33166   \n",
       "1                       Bay Plumbing Co   3029 SW 28th St, Miami, FL - 33133   \n",
       "2  Roto Rooter Plumbing & Drain Service   151 SW 54th Ave, Miami, FL - 33134   \n",
       "3              Rosher Dick Plumbing Inc  8857 SW 129Th St, Miami, FL - 33176   \n",
       "4                South End Plumbing Inc  8805 SW 129th St, Miami, FL - 33176   \n",
       "5       Blackwell Emergency Plumbing Co         900 144th, Miami, FL - 33168   \n",
       "6                  Plumbing Experts Inc  2101 NE 164th St, Miami, FL - 33162   \n",
       "7                       Marlin Plumbing  20145 NE 16th Pl, Miami, FL - 33179   \n",
       "8                    Caballero Plumbing   7225 NW 46th St, Miami, FL - 33166   \n",
       "9           Super Rooter Sewer & Septic                    Miami, FL - 33125   \n",
       "\n",
       "             phone_                                           website_  \\\n",
       "0  tel:+13058880678                             http://orrplumbing.com   \n",
       "1  tel:+13054468141                           http://bayplumbingco.com   \n",
       "2  tel:+13054411292                          http://www.rotorooter.com   \n",
       "3  tel:+13052530405           http://www.dickrosherplumbingofmiami.com   \n",
       "4  tel:+13053781774                        http://southendplumbing.com   \n",
       "5  tel:+13057578459                                               None   \n",
       "6  tel:+13059479968  http://FACEBOOK.COM/PLUGINS/LIKEBOX.PHP|PLUMBI...   \n",
       "7  tel:+17865041854                         http://4marlinplumbing.net   \n",
       "8  tel:+13056299500                       http://caballeroplumbing.com   \n",
       "9  tel:+13052267259                                               None   \n",
       "\n",
       "  rateing_ votes_  \n",
       "0      5.0    210  \n",
       "1      4.0     60  \n",
       "2      4.0     60  \n",
       "3      4.0     50  \n",
       "4      5.0      1  \n",
       "5      4.0      1  \n",
       "6      0.0   None  \n",
       "7      0.0   None  \n",
       "8      0.0   None  \n",
       "9      0.0   None  "
      ]
     },
     "execution_count": 34,
     "metadata": {},
     "output_type": "execute_result"
    }
   ],
   "source": [
    "final_data"
   ]
  },
  {
   "cell_type": "code",
   "execution_count": 35,
   "metadata": {},
   "outputs": [],
   "source": [
    "final_data.to_csv('plumber_justdail_lorida.csv',index=True)"
   ]
  },
  {
   "cell_type": "code",
   "execution_count": null,
   "metadata": {},
   "outputs": [],
   "source": []
  }
 ],
 "metadata": {
  "kernelspec": {
   "display_name": "Python 3",
   "language": "python",
   "name": "python3"
  },
  "language_info": {
   "codemirror_mode": {
    "name": "ipython",
    "version": 3
   },
   "file_extension": ".py",
   "mimetype": "text/x-python",
   "name": "python",
   "nbconvert_exporter": "python",
   "pygments_lexer": "ipython3",
   "version": "3.6.5"
  }
 },
 "nbformat": 4,
 "nbformat_minor": 2
}
